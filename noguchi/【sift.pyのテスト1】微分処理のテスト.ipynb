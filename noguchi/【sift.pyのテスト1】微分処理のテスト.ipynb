{
 "cells": [
  {
   "cell_type": "markdown",
   "metadata": {},
   "source": [
    "# 微分処理のテスト"
   ]
  },
  {
   "cell_type": "markdown",
   "metadata": {},
   "source": [
    "## sift.pyをインポート"
   ]
  },
  {
   "cell_type": "code",
   "execution_count": 136,
   "metadata": {
    "collapsed": false
   },
   "outputs": [
    {
     "name": "stdout",
     "output_type": "stream",
     "text": [
      "/Users/noguchi_osamu/PycharmProjects/mps_20160220/noguchi\n"
     ]
    }
   ],
   "source": [
    "%cd ~/PycharmProjects/mps_20160220/noguchi"
   ]
  },
  {
   "cell_type": "code",
   "execution_count": 137,
   "metadata": {
    "collapsed": false
   },
   "outputs": [
    {
     "name": "stdout",
     "output_type": "stream",
     "text": [
      "\u001b[34m__pycache__\u001b[m\u001b[m/ \u001b[34mimg\u001b[m\u001b[m/         sift.py\r\n"
     ]
    }
   ],
   "source": [
    "%ls"
   ]
  },
  {
   "cell_type": "code",
   "execution_count": 138,
   "metadata": {
    "collapsed": true
   },
   "outputs": [],
   "source": [
    "from PIL import Image\n",
    "import numpy as np\n",
    "from scipy.ndimage.filters import gaussian_filter\n",
    "import matplotlib.pyplot as plt\n",
    "from collections import OrderedDict"
   ]
  },
  {
   "cell_type": "code",
   "execution_count": 139,
   "metadata": {
    "collapsed": false
   },
   "outputs": [
    {
     "data": {
      "text/plain": [
       "<module 'sift' from '/Users/noguchi_osamu/PycharmProjects/mps_20160220/noguchi/sift.py'>"
      ]
     },
     "execution_count": 139,
     "metadata": {},
     "output_type": "execute_result"
    }
   ],
   "source": [
    "import sys\n",
    "#del sys.modules['sift']\n",
    "import sift\n",
    "sys.modules['sift']"
   ]
  },
  {
   "cell_type": "markdown",
   "metadata": {},
   "source": [
    "## パラメータを設定"
   ]
  },
  {
   "cell_type": "code",
   "execution_count": 140,
   "metadata": {
    "collapsed": false
   },
   "outputs": [],
   "source": [
    "sigma=0.32\n",
    "#sigma = 1.6\n",
    "s= 3\n",
    "k = np.power(2.0, 1.0/s)"
   ]
  },
  {
   "cell_type": "markdown",
   "metadata": {},
   "source": [
    "## テスト用の条件を設定\n",
    "### テスト用の関数を設定"
   ]
  },
  {
   "cell_type": "code",
   "execution_count": 141,
   "metadata": {
    "collapsed": false
   },
   "outputs": [],
   "source": [
    "def test(x):\n",
    "    return np.sin(x)\n",
    "    #return x ** 3"
   ]
  },
  {
   "cell_type": "markdown",
   "metadata": {},
   "source": [
    "### テスト用の刻み幅を設定"
   ]
  },
  {
   "cell_type": "code",
   "execution_count": 142,
   "metadata": {
    "collapsed": true
   },
   "outputs": [],
   "source": [
    "def delta(i):\n",
    "    #return sigma * np.power(k,i)\n",
    "    return i * sigma"
   ]
  },
  {
   "cell_type": "markdown",
   "metadata": {},
   "source": [
    "## テスト用のoctaveを作成 "
   ]
  },
  {
   "cell_type": "code",
   "execution_count": 143,
   "metadata": {
    "collapsed": false
   },
   "outputs": [],
   "source": [
    "octave = OrderedDict()\n",
    "for i in range(1, s + 30):\n",
    "        scale = delta(i)\n",
    "        v = test(scale)\n",
    "        octave[scale] = np.array([[v] * 3] * 3)"
   ]
  },
  {
   "cell_type": "markdown",
   "metadata": {},
   "source": [
    "## プロットしてみる"
   ]
  },
  {
   "cell_type": "code",
   "execution_count": 144,
   "metadata": {
    "collapsed": true
   },
   "outputs": [],
   "source": [
    "%matplotlib inline"
   ]
  },
  {
   "cell_type": "code",
   "execution_count": 145,
   "metadata": {
    "collapsed": false
   },
   "outputs": [
    {
     "data": {
      "text/plain": [
       "[<matplotlib.lines.Line2D at 0x10d02c2b0>]"
      ]
     },
     "execution_count": 145,
     "metadata": {},
     "output_type": "execute_result"
    },
    {
     "data": {
      "image/png": "[encoded data removed]",
      "text/plain": [
       "<matplotlib.figure.Figure at 0x10c815390>"
      ]
     },
     "metadata": {},
     "output_type": "display_data"
    }
   ],
   "source": [
    "x = np.array([_x for _x in octave.keys()])\n",
    "y = np.array([_y[0,0] for _y in octave.values()])\n",
    "plt.plot(x,y)"
   ]
  },
  {
   "cell_type": "markdown",
   "metadata": {},
   "source": [
    "## ダミーの変数を用いてExtremaSpaceを作成"
   ]
  },
  {
   "cell_type": "code",
   "execution_count": 146,
   "metadata": {
    "collapsed": false
   },
   "outputs": [],
   "source": [
    "dog_space = list(octave)"
   ]
  },
  {
   "cell_type": "code",
   "execution_count": 147,
   "metadata": {
    "collapsed": false
   },
   "outputs": [],
   "source": [
    "ex = sift.ExtremaSpace(dog_space)"
   ]
  },
  {
   "cell_type": "markdown",
   "metadata": {},
   "source": [
    "## 微分(１階・２階)を実行"
   ]
  },
  {
   "cell_type": "code",
   "execution_count": 148,
   "metadata": {
    "collapsed": false
   },
   "outputs": [
    {
     "data": {
      "text/plain": [
       "array([[ 0.        ,  0.        ,  0.        ],\n",
       "       [ 0.        ,  0.        ,  0.        ],\n",
       "       [ 0.        ,  0.        , -0.59211674]])"
      ]
     },
     "execution_count": 148,
     "metadata": {},
     "output_type": "execute_result"
    }
   ],
   "source": [
    "d2x = ex.d2fdx2(1, 1, x[1], x[1]-x[0], x[2]-x[1], octave)\n",
    "d2x"
   ]
  },
  {
   "cell_type": "code",
   "execution_count": 149,
   "metadata": {
    "collapsed": false
   },
   "outputs": [
    {
     "data": {
      "text/plain": [
       "[<matplotlib.lines.Line2D at 0x10d1d3c50>]"
      ]
     },
     "execution_count": 149,
     "metadata": {},
     "output_type": "execute_result"
    },
    {
     "data": {
      "image/png": "[encoded data removed]",
      "text/plain": [
       "<matplotlib.figure.Figure at 0x10cc9b438>"
      ]
     },
     "metadata": {},
     "output_type": "display_data"
    }
   ],
   "source": [
    "# １階微分\n",
    "a = np.array([ex.dx(1, 1, x[i], x[i+1]-x[i], octave) for i in range(1,30)])\n",
    "dy = np.array([_dy[2,0] for _dy in a])\n",
    "\n",
    "# ２階微分\n",
    "a = np.array([ex.d2fdx2(1, 1, x[i], x[i]-x[i-1], x[i+1]-x[i], octave) for i in range(1,30)])\n",
    "dyy = np.array([_dy[2,2] for _dy in a])\n",
    "\n",
    "plt.plot(x[0:29], y[0:29])\n",
    "plt.plot(x[0:29], dy[0:29])\n",
    "plt.plot(x[0:29], dyy[0:29])"
   ]
  },
  {
   "cell_type": "markdown",
   "metadata": {
    "collapsed": true
   },
   "source": [
    "## テイラー展開をしてみる\n",
    "- テーラー展開式：\n",
    "$$ f(x) = f(c) + \\frac{df}{dx}\\big|_c \\cdot (x - c) + \\frac{\\partial^2 f}{\\partial x^2}\\big|_c \\cdot (x-c)^2$$\n",
    "- 極値の近似点（テーラー展開式上の極値）：\n",
    "$$ \\hat{x} = - \\frac{\\partial^2 f}{\\partial x^2}^{-1} \\cdot \\frac{\\partial f}{\\partial x} \\big|_c+ c$$\n",
    "$$ f(\\hat{x}) = f(c) - \\frac{1}{2} \\frac{\\partial f}{\\partial x}^T \\frac{\\partial^2 f}{\\partial x^2}^{-1}\\frac{\\partial f}{\\partial x}\\big|_c $$ "
   ]
  },
  {
   "cell_type": "code",
   "execution_count": 152,
   "metadata": {
    "collapsed": false
   },
   "outputs": [
    {
     "data": {
      "text/plain": [
       "<matplotlib.collections.PathCollection at 0x10d4eec18>"
      ]
     },
     "execution_count": 152,
     "metadata": {},
     "output_type": "execute_result"
    },
    {
     "data": {
      "image/png": "[encoded data removed]",
      "text/plain": [
       "<matplotlib.figure.Figure at 0x10d14f978>"
      ]
     },
     "metadata": {},
     "output_type": "display_data"
    }
   ],
   "source": [
    "i = 6 # テーラー展開をする点\n",
    "xmax = x[10] # グラフ表示の上限\n",
    "\n",
    "# (1,1,c)でテーラー展開するために必要な係数を求める。\n",
    "# ここでは、x, yは固定としているので、適当に1にしている。\n",
    "# また、sigma = x[i], f(c)=y[i]です。\n",
    "\n",
    "c = np.array([1,1,x[i]])[:, np.newaxis] # c\n",
    "fc = y[i] # f(c)\n",
    "dc = ex.dx(1, 1, x[i], x[i+1] - x[i], octave) # df/dx_c\n",
    "dcc = ex.d2fdx2(1, 1, x[i], x[i]-x[i-1], x[i+1]-x[i], octave) # d2f/dx2_c\n",
    "\n",
    "# Xを用意（一応、３次元ベクトルとして用意する）\n",
    "x1 = np.array(np.arange(0, xmax, 0.1))\n",
    "X = np.array([[[1], [1], [_x1]] for _x1 in x1])\n",
    "\n",
    "# テーラー展開\n",
    "Y1 = np.array([(fc + dc.T.dot(_X-c))[0,0] + 0.5 * ((_X-c).T.dot(dcc.dot(_X-c)))[0,0] for _X in X])\n",
    "\n",
    "# x_hatを求める\n",
    "#x_hat = np.linalg.inv(dcc).dot(dc) + c # 本当は逆行列が必要だが、正則でないので計算できない。\n",
    "x_hat = -1.0 / dcc[2, 2] * dc[2] + c[2]\n",
    "f_hat = fc - 0.5 * dc[2] * dc[2] / dcc[2,2]\n",
    "\n",
    "# グラフをプロット\n",
    "plt.plot(x1, test(x1)) # 元の関数\n",
    "plt.plot(x1, Y1) # テーラー展開後の関数\n",
    "plt.scatter(x[i], y[i]) # cをプロット\n",
    "plt.scatter(x_hat, f_hat) # x_hat, f(x_hat)をプロット\n"
   ]
  },
  {
   "cell_type": "code",
   "execution_count": null,
   "metadata": {
    "collapsed": true
   },
   "outputs": [],
   "source": []
  }
 ],
 "metadata": {
  "kernelspec": {
   "display_name": "Python 3",
   "language": "python",
   "name": "python3"
  },
  "language_info": {
   "codemirror_mode": {
    "name": "ipython",
    "version": 3
   },
   "file_extension": ".py",
   "mimetype": "text/x-python",
   "name": "python",
   "nbconvert_exporter": "python",
   "pygments_lexer": "ipython3",
   "version": "3.5.0"
  }
 },
 "nbformat": 4,
 "nbformat_minor": 0
}
